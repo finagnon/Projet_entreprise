{
 "cells": [
  {
   "cell_type": "code",
   "execution_count": 1,
   "metadata": {},
   "outputs": [],
   "source": [
    "from bs4 import BeautifulSoup\n",
    "from selenium.webdriver.support.wait import WebDriverWait\n",
    "from selenium.webdriver.support import expected_conditions as EC\n",
    "from selenium.webdriver.common.by import By\n",
    "import pandas as pd\n",
    "import time\n",
    "from pprint import pprint\n",
    "import re\n",
    "import json\n",
    "from selenium import webdriver"
   ]
  },
  {
   "cell_type": "code",
   "execution_count": 2,
   "metadata": {},
   "outputs": [],
   "source": [
    "driver = webdriver.Chrome()\n",
    "\n",
    "url = 'https://www.google.com/maps/'\n",
    "driver.get(url)\n",
    "\n",
    "button_refuse_cookie = driver.find_element(By.CLASS_NAME, 'VfPpkd-LgbsSe.VfPpkd-LgbsSe-OWXEXe-k8QpJ.VfPpkd-LgbsSe-OWXEXe-dgl2Hf.nCP5yc.AjY5Oe.DuMIQc.LQeN7.Nc7WLe').click()\n",
    "time.sleep(1)"
   ]
  },
  {
   "cell_type": "code",
   "execution_count": 3,
   "metadata": {},
   "outputs": [
    {
     "name": "stdout",
     "output_type": "stream",
     "text": [
      "array(['Île-de-France', 'Bretagne', 'Normandie', 'Hauts-de-France',\n",
      "       'Grand Est', 'Pays de la Loire', 'Centre-Val de Loire',\n",
      "       'Bourgogne-Franche-Comté', 'Nouvelle-Aquitaine',\n",
      "       'Auvergne-Rhône-Alpes', 'Occitanie', \"Provence-Alpes-Côte d'Azur\",\n",
      "       'Corse'], dtype=object)\n"
     ]
    }
   ],
   "source": [
    "df_regions = pd.read_csv('../Data/region.csv', sep=',')\n",
    "regions = df_regions['Regions'].unique()\n",
    "pprint(regions)"
   ]
  },
  {
   "cell_type": "code",
   "execution_count": 4,
   "metadata": {},
   "outputs": [],
   "source": [
    "url_list = []\n",
    "for region in regions:\n",
    "    search = driver.find_element(By.ID, 'searchboxinput')\n",
    "    btn_search = driver.find_element(By.ID, 'searchbox-searchbutton')\n",
    "    if search:\n",
    "        search.clear()\n",
    "    search.send_keys(region)\n",
    "    btn_search.click()\n",
    "    time.sleep(3)\n",
    "            \n",
    "    url_ = driver.current_url\n",
    "    url_list.append({region:url_})\n"
   ]
  },
  {
   "cell_type": "code",
   "execution_count": 5,
   "metadata": {},
   "outputs": [],
   "source": [
    "url_list\n",
    "urrl = url_list"
   ]
  },
  {
   "cell_type": "code",
   "execution_count": 6,
   "metadata": {},
   "outputs": [
    {
     "name": "stdout",
     "output_type": "stream",
     "text": [
      "[{'Île-de-France': 'https://www.google.com/maps/@48.6732389,1.1835131,8z'},\n",
      " {'Bretagne': 'https://www.google.com/maps/@48.0591949,-5.7180791,7z'},\n",
      " {'Normandie': 'https://www.google.com/maps/@49.0959491,-2.7123337,7z'},\n",
      " {'Hauts-de-France': 'https://www.google.com/maps/@49.9331383,0.1786142,7z'},\n",
      " {'Grand Est': 'https://www.google.com/maps/@48.7646643,3.1690558,7z'},\n",
      " {'Pays de la Loire': 'https://www.google.com/maps/@47.3870199,-3.4942576,7z'},\n",
      " {'Centre-Val de Loire': 'https://www.google.com/maps/@47.6136814,-1.0489785,7z'},\n",
      " {'Bourgogne-Franche-Comté': 'https://www.google.com/maps/@47.2477388,2.3543994,7z'},\n",
      " {'Nouvelle-Aquitaine': 'https://www.google.com/maps/@44.9463395,-2.2305156,7z'},\n",
      " {'Auvergne-Rhône-Alpes': 'https://www.google.com/maps/@45.3378826,-0.6601938,6z'},\n",
      " {'Occitanie': 'https://www.google.com/maps/@43.567906,-3.0263772,6z'},\n",
      " {\"Provence-Alpes-Côte d'Azur\": 'https://www.google.com/maps/@44.0240179,3.3345027,7z'},\n",
      " {'Corse': 'https://www.google.com/maps/@42.180314,7.7323918,8z'}]\n"
     ]
    }
   ],
   "source": [
    "# Diviser l'URL à partir de \"data\"\n",
    "for lien in url_list:\n",
    "    for cle, valeur in lien.items():\n",
    "        # Obtenir la première partie (avant \"data\")\n",
    "        lien[cle] = valeur.split('/data')[0]\n",
    "\n",
    "# Supprimer entre maps/ et @\n",
    "for lien in url_list:\n",
    "    for cle, valeur in lien.items():\n",
    "        lien[cle] = re.sub(r'maps/.*?@', 'maps/@', valeur)\n",
    "pprint(url_list)"
   ]
  },
  {
   "cell_type": "code",
   "execution_count": 7,
   "metadata": {},
   "outputs": [],
   "source": [
    "# json_region = json.dumps(url_list, ensure_ascii=False)\n",
    "# with open('regions_lien.json', 'w', encoding='utf-8') as fichier:\n",
    "#     fichier.write(json_region)"
   ]
  },
  {
   "cell_type": "code",
   "execution_count": 8,
   "metadata": {},
   "outputs": [],
   "source": [
    "# pprint(json_region)"
   ]
  },
  {
   "cell_type": "code",
   "execution_count": 9,
   "metadata": {},
   "outputs": [],
   "source": [
    "\n",
    "# df = pd.DataFrame(url_list)\n",
    "\n",
    "df = pd.DataFrame({'Regions': key, 'Lien': value} for d in url_list for key, value in d.items())\n",
    "\n",
    "df.to_csv(f'../Data/regions_liens.csv', index=False, encoding='utf-8')"
   ]
  }
 ],
 "metadata": {
  "kernelspec": {
   "display_name": "env",
   "language": "python",
   "name": "python3"
  },
  "language_info": {
   "codemirror_mode": {
    "name": "ipython",
    "version": 3
   },
   "file_extension": ".py",
   "mimetype": "text/x-python",
   "name": "python",
   "nbconvert_exporter": "python",
   "pygments_lexer": "ipython3",
   "version": "3.11.1"
  },
  "orig_nbformat": 4
 },
 "nbformat": 4,
 "nbformat_minor": 2
}
