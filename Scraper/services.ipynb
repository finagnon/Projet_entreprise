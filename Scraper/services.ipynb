{
 "cells": [
  {
   "cell_type": "code",
   "execution_count": 4,
   "metadata": {},
   "outputs": [],
   "source": [
    "import pandas as pd\n",
    "from pprint import pprint\n"
   ]
  },
  {
   "cell_type": "code",
   "execution_count": 5,
   "metadata": {},
   "outputs": [
    {
     "name": "stdout",
     "output_type": "stream",
     "text": [
      "array(['POLICE NATIONALE', 'MTE-MCTRCT', 'France services',\n",
      "       'Ministère de la Culture', 'Ministère de la Justice',\n",
      "       'POLE EMPLOI', 'DGFIP', 'Universités et écoles',\n",
      "       \"Administration territoriale de l'Etat\",\n",
      "       'Etablissement Français du Sang', 'ONACVG',\n",
      "       'Ministère de l’Europe et des Affaires étrangères (MEAE)',\n",
      "       'URSSAF', 'Réseau des rectorats et DSDEN', 'DGDDI', 'DITP',\n",
      "       \"Ministère de l'Agriculture et de l'Alimentation\", 'DSNJ',\n",
      "       'Direction interministérielle du Numérique (DINUM)',\n",
      "       'Gendarmerie Nationale', 'Réseau hors réseau', 'DGCCRF', 'SGMAS',\n",
      "       'ANTS', 'CCMSA', \"Services numériques du ministère de l'Intérieur\",\n",
      "       'LES CROUS', 'CNAM', 'INSEE', 'CNAV',\n",
      "       \"Direction de l'information légale et administration publique (DILA)\",\n",
      "       'CNAF', 'Collectivités territoriales - Départements',\n",
      "       'AGIRC-ARRCO', 'CAISSE NATIONALE MILITAIRE DE SECURITE SOCIALE',\n",
      "       'CCSP', 'Collectivités territoriales - Communes'], dtype=object)\n"
     ]
    }
   ],
   "source": [
    "\n",
    "# Lire le fichier export-structures et prendre le intitulé du réseau unique\n",
    "df_services = pd.read_csv('../Data/export-structures.csv', sep=';')\n",
    "services = df_services['Intitulé du réseau'].unique()\n",
    "pprint(services)\n"
   ]
  },
  {
   "cell_type": "code",
   "execution_count": 6,
   "metadata": {},
   "outputs": [],
   "source": [
    "\n",
    "donnee = pd.DataFrame(services)\n",
    "donnee.columns = ['Services publics']\n",
    "donnee.to_csv('../Data/services.csv', index=False, header=True)"
   ]
  }
 ],
 "metadata": {
  "kernelspec": {
   "display_name": "env",
   "language": "python",
   "name": "python3"
  },
  "language_info": {
   "codemirror_mode": {
    "name": "ipython",
    "version": 3
   },
   "file_extension": ".py",
   "mimetype": "text/x-python",
   "name": "python",
   "nbconvert_exporter": "python",
   "pygments_lexer": "ipython3",
   "version": "3.9.13"
  },
  "orig_nbformat": 4
 },
 "nbformat": 4,
 "nbformat_minor": 2
}
